{
  "nbformat": 4,
  "nbformat_minor": 0,
  "metadata": {
    "colab": {
      "name": "lec-ch4.ipynb",
      "provenance": [],
      "collapsed_sections": [],
      "authorship_tag": "ABX9TyOpr4QtYm5A9DwrodnBap9v",
      "include_colab_link": true
    },
    "kernelspec": {
      "name": "python3",
      "display_name": "Python 3"
    },
    "language_info": {
      "name": "python"
    }
  },
  "cells": [
    {
      "cell_type": "markdown",
      "metadata": {
        "id": "view-in-github",
        "colab_type": "text"
      },
      "source": [
        "<a href=\"https://colab.research.google.com/github/hjsung-brique/lecture/blob/main/lec_ch4.ipynb\" target=\"_parent\"><img src=\"https://colab.research.google.com/assets/colab-badge.svg\" alt=\"Open In Colab\"/></a>"
      ]
    },
    {
      "cell_type": "code",
      "source": [
        "import numpy as np\n",
        "import matplotlib.pyplot as plt\n",
        "%matplotlib inline\n",
        "import cv2\n",
        "import glob\n",
        "import random"
      ],
      "metadata": {
        "id": "aqUdYUzOzLW0"
      },
      "execution_count": null,
      "outputs": []
    },
    {
      "cell_type": "code",
      "source": [
        "def brightness(gray, val):\n",
        "    brightness = int(random.uniform(-val, val))\n",
        "    if brightness > 0:\n",
        "        gray = gray + brightness\n",
        "    else:\n",
        "        gray = gray - brightness\n",
        "    gray = np.clip(gray, 10, 255)\n",
        "    return gray"
      ],
      "metadata": {
        "id": "bN6YBPuszgwc"
      },
      "execution_count": null,
      "outputs": []
    },
    {
      "cell_type": "code",
      "source": [
        "def contrast(gray, min_val, max_val):\n",
        "    alpha = int(random.uniform(min_val, max_val)) # Contrast control\n",
        "    adjusted = cv2.convertScaleAbs(gray, alpha=alpha)\n",
        "    return adjusted"
      ],
      "metadata": {
        "id": "hJtLdmJCzr-B"
      },
      "execution_count": null,
      "outputs": []
    },
    {
      "cell_type": "code",
      "source": [
        "def fill(img, h, w):\n",
        "    img = cv2.resize(img, (h, w), cv2.INTER_CUBIC)\n",
        "    return img"
      ],
      "metadata": {
        "id": "iThahHM_zv6m"
      },
      "execution_count": null,
      "outputs": []
    },
    {
      "cell_type": "code",
      "source": [
        "def rotation(img, angle):\n",
        "    angle = int(random.uniform(-angle, angle))\n",
        "    h, w = img.shape[:2]\n",
        "    M = cv2.getRotationMatrix2D((int(w/2), int(h/2)), angle, 1)\n",
        "    img = cv2.warpAffine(img, M, (w, h))\n",
        "    return img"
      ],
      "metadata": {
        "id": "D8_ucYF4zzhy"
      },
      "execution_count": null,
      "outputs": []
    },
    {
      "cell_type": "code",
      "source": [
        "def vertical_shift_down(img, ratio=0.0):\n",
        "    if ratio > 1 or ratio < 0:\n",
        "        print('Value should be less than 1 and greater than 0')\n",
        "        return img\n",
        "    ratio = random.uniform(-ratio, ratio)\n",
        "    h, w = img.shape[:2]\n",
        "    to_shift = h*ratio\n",
        "    if ratio > 0:\n",
        "        img = img[:int(h-to_shift), :, :] if img.ndim == 3 else img[:int(h-to_shift), :]\n",
        "    img = fill(img, h, w)\n",
        "    return img"
      ],
      "metadata": {
        "id": "t_F9yZWAz5CF"
      },
      "execution_count": null,
      "outputs": []
    },
    {
      "cell_type": "code",
      "source": [
        "def vertical_shift_up(img, ratio=0.0):\n",
        "    if ratio > 1 or ratio < 0:\n",
        "        print('Value should be less than 1 and greater than 0')\n",
        "        return img\n",
        "    ratio = random.uniform(0.0, ratio)\n",
        "    h, w = img.shape[:2]\n",
        "    to_shift = h*ratio\n",
        "    if ratio > 0:\n",
        "        img = img[:int(h-to_shift), :, :] if img.ndim == 3 else img[:int(h-to_shift), :]\n",
        "    img = fill(img, h, w)\n",
        "    return img"
      ],
      "metadata": {
        "id": "wm2Duhm_0CRC"
      },
      "execution_count": null,
      "outputs": []
    },
    {
      "cell_type": "code",
      "source": [
        "def horizontal_shift(img, ratio=0.0):\n",
        "    if ratio > 1 or ratio < 0:\n",
        "        print('Value should be less than 1 and greater than 0')\n",
        "        return img\n",
        "    ratio = random.uniform(-ratio, ratio)\n",
        "    h, w = img.shape[:2]\n",
        "    to_shift = w*ratio\n",
        "    if ratio > 0:\n",
        "        img = img[:, :int(w-to_shift), :] if img.ndim == 3 else img[:, :int(w-to_shift)]\n",
        "    if ratio < 0:\n",
        "        img = img[:, int(-1*to_shift):, :] if img.ndim == 3 else img[:, int(-1*to_shift):]\n",
        "    img = fill(img, h, w)\n",
        "    return img"
      ],
      "metadata": {
        "id": "dhJYQ63Y0GPC"
      },
      "execution_count": null,
      "outputs": []
    },
    {
      "cell_type": "code",
      "source": [
        "def vertical_flip(img, flag):\n",
        "    if flag:\n",
        "        return cv2.flip(img, 0)\n",
        "    else:\n",
        "        return img"
      ],
      "metadata": {
        "id": "NLESwG4J0ItD"
      },
      "execution_count": null,
      "outputs": []
    },
    {
      "cell_type": "code",
      "source": [
        "def horizontal_flip(img, flag):\n",
        "    if flag:\n",
        "        return cv2.flip(img, 1)\n",
        "    else:\n",
        "        return img"
      ],
      "metadata": {
        "id": "B7b4omie0Kxc"
      },
      "execution_count": null,
      "outputs": []
    },
    {
      "cell_type": "code",
      "source": [
        "import tensorflow as tf\n",
        "import matplotlib.pyplot as plt\n",
        "%matplotlib inline\n",
        "\n",
        "mnist = tf.keras.datasets.mnist\n",
        "\n",
        "(x_train, y_train), (x_test, y_test) = mnist.load_data()\n",
        "print(f'{x_train.shape}, {x_test.shape}')\n",
        "\n",
        "from PIL import Image\n",
        "im = Image.fromarray(x_train[0])\n",
        "im.save(\"test.png\")\n",
        "\n",
        "plt.imshow(x_train[0], cmap=\"Greys\");"
      ],
      "metadata": {
        "id": "8gDDv_F7150z"
      },
      "execution_count": null,
      "outputs": []
    },
    {
      "cell_type": "code",
      "source": [
        "img = cv2.imread('test.png', cv2.IMREAD_UNCHANGED)\n",
        "img = cv2.resize(img, dsize=(88, 88),interpolation=cv2.INTER_LINEAR)\n",
        "# img = brightness(img, 30)\n",
        "# img = contrast(img, 1, 1.5)\n",
        "# img = horizontal_flip(img, 1)\n",
        "# img = rotation(img, 180)\n",
        "# img = horizontal_shift(img, 0.1)\n",
        "\n",
        "plt.imshow(img, cmap='Greys')\n"
      ],
      "metadata": {
        "id": "grGVzZRK6wMq"
      },
      "execution_count": null,
      "outputs": []
    },
    {
      "cell_type": "code",
      "source": [
        "img = cv2.imread('test.png', cv2.IMREAD_UNCHANGED)\n",
        "# img = cv2.resize(img, dsize=(88, 88),interpolation=cv2.INTER_LINEAR)\n",
        "# img = brightness(img, 30)\n",
        "img = contrast(img, 1, 1.5)\n",
        "img = horizontal_flip(img, 1)\n",
        "img = rotation(img, 180)\n",
        "# img = horizontal_shift(img, 0.1)\n",
        "\n",
        "plt.imshow(img, cmap='Greys')"
      ],
      "metadata": {
        "id": "60KSnU2o9MuA"
      },
      "execution_count": null,
      "outputs": []
    }
  ]
}