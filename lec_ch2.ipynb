{
  "nbformat": 4,
  "nbformat_minor": 0,
  "metadata": {
    "colab": {
      "name": "lec-ch2.ipynb",
      "provenance": [],
      "collapsed_sections": [],
      "authorship_tag": "ABX9TyMKtJo34U4HcLKgAaURjmpd",
      "include_colab_link": true
    },
    "kernelspec": {
      "name": "python3",
      "display_name": "Python 3"
    },
    "language_info": {
      "name": "python"
    }
  },
  "cells": [
    {
      "cell_type": "markdown",
      "metadata": {
        "id": "view-in-github",
        "colab_type": "text"
      },
      "source": [
        "<a href=\"https://colab.research.google.com/github/hjsung-brique/lecture/blob/main/lec_ch2.ipynb\" target=\"_parent\"><img src=\"https://colab.research.google.com/assets/colab-badge.svg\" alt=\"Open In Colab\"/></a>"
      ]
    },
    {
      "cell_type": "code",
      "execution_count": null,
      "metadata": {
        "id": "KAHLDxi168Hp"
      },
      "outputs": [],
      "source": [
        "from scipy.stats import mode\n",
        "import numpy as np\n",
        "#from mnist import MNIST\n",
        "from time import time\n",
        "import pandas as pd\n",
        "import os\n",
        "import matplotlib.pyplot as matplot\n",
        "import matplotlib\n",
        "%matplotlib inline\n",
        "\n",
        "import random\n",
        "matplot.rcdefaults()\n",
        "from IPython.display import display, HTML\n",
        "from itertools import chain\n",
        "from sklearn.metrics import confusion_matrix\n",
        "from sklearn.metrics import accuracy_score\n",
        "import seaborn as sb\n",
        "from sklearn.model_selection import ParameterGrid\n",
        "from sklearn.svm import SVC, LinearSVC\n",
        "import warnings\n",
        "warnings.filterwarnings('ignore')"
      ]
    },
    {
      "cell_type": "code",
      "source": [
        "import tensorflow as tf\n",
        "mnist = tf.keras.datasets.mnist\n",
        "\n",
        "(x_train, y_train), (x_test, y_test) = mnist.load_data()\n",
        "x_train, x_test = x_train / 255.0, x_test / 255.0"
      ],
      "metadata": {
        "id": "ojlMLoAj7I6x"
      },
      "execution_count": null,
      "outputs": []
    },
    {
      "cell_type": "code",
      "source": [
        "ns, nx, ny = x_train.shape\n",
        "d2_x_train = x_train.reshape((ns,nx*ny))\n",
        "\n",
        "ns, nx, ny = x_test.shape\n",
        "d2_x_test = x_test.reshape((ns, nx*ny))\n"
      ],
      "metadata": {
        "id": "UTNuYEQY8LSd"
      },
      "execution_count": null,
      "outputs": []
    },
    {
      "cell_type": "code",
      "source": [
        "svm = LinearSVC(dual=False)\n",
        "svm.fit(d2_x_train, y_train)"
      ],
      "metadata": {
        "id": "GeUrRSB6CtBl"
      },
      "execution_count": null,
      "outputs": []
    },
    {
      "cell_type": "code",
      "source": [
        "pred = svm.predict(d2_x_test)\n",
        "accuracy_score(y_test, pred)"
      ],
      "metadata": {
        "id": "EtWD6diVEmWT"
      },
      "execution_count": null,
      "outputs": []
    },
    {
      "cell_type": "code",
      "source": [
        "cm = confusion_matrix(y_test, pred)\n",
        "matplot.subplots(figsize=(10, 6))\n",
        "sb.heatmap(cm, annot = True, fmt = 'g')\n",
        "matplot.xlabel(\"Predicted\")\n",
        "matplot.ylabel(\"Actual\")\n",
        "matplot.title(\"Confusion Matrix\")\n",
        "matplot.show()"
      ],
      "metadata": {
        "id": "PmmQU2lhFVCE"
      },
      "execution_count": null,
      "outputs": []
    }
  ]
}