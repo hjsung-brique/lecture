{
  "nbformat": 4,
  "nbformat_minor": 0,
  "metadata": {
    "colab": {
      "name": "lec-ch5-tl.ipynb",
      "provenance": [],
      "authorship_tag": "ABX9TyOntzKZN+XW2uLyKa+is9fx",
      "include_colab_link": true
    },
    "kernelspec": {
      "name": "python3",
      "display_name": "Python 3"
    },
    "language_info": {
      "name": "python"
    }
  },
  "cells": [
    {
      "cell_type": "markdown",
      "metadata": {
        "id": "view-in-github",
        "colab_type": "text"
      },
      "source": [
        "<a href=\"https://colab.research.google.com/github/hjsung-brique/lecture/blob/main/lec_ch5_tl.ipynb\" target=\"_parent\"><img src=\"https://colab.research.google.com/assets/colab-badge.svg\" alt=\"Open In Colab\"/></a>"
      ]
    },
    {
      "cell_type": "code",
      "source": [
        "from urllib import request\n",
        "import time\n",
        "from io import BytesIO\n",
        "from PIL import Image\n",
        "\n",
        "from tensorflow.keras.applications.resnet50 import ResNet50\n",
        "from tensorflow.keras.preprocessing import image\n",
        "from tensorflow.keras.applications.resnet50 import preprocess_input, decode_predictions\n",
        "import numpy as np"
      ],
      "metadata": {
        "id": "a3iFlO0etcl0"
      },
      "execution_count": null,
      "outputs": []
    },
    {
      "cell_type": "code",
      "execution_count": null,
      "metadata": {
        "id": "vZRNzyaKsK44"
      },
      "outputs": [],
      "source": [
        "pic_path = \"https://pds.joongang.co.kr/news/component/htmlphoto_mmdata/202006/03/c90dac24-580d-47e6-8994-ca105527b2a2.jpg\"\n"
      ]
    },
    {
      "cell_type": "code",
      "source": [
        "model = ResNet50(weights='imagenet')\n",
        "\n",
        "res = request.urlopen(pic_path).read()\n",
        "img = Image.open(BytesIO(res)).resize((224, 224))\n",
        "\n",
        "x = image.img_to_array(img)\n",
        "x = np.expand_dims(x, axis=0)\n",
        "x = preprocess_input(x)\n",
        "\n",
        "preds = model.predict(x)\n",
        "# decode the results into a list of tuples (class, description, probability)\n",
        "# (one such list for each sample in the batch)\n",
        "print('Predicted:', decode_predictions(preds, top=3)[0])"
      ],
      "metadata": {
        "id": "1ddSueXUsuyZ"
      },
      "execution_count": null,
      "outputs": []
    }
  ]
}