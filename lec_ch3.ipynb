{
  "nbformat": 4,
  "nbformat_minor": 0,
  "metadata": {
    "colab": {
      "name": "lec-ch3.ipynb",
      "provenance": [],
      "collapsed_sections": [],
      "authorship_tag": "ABX9TyNpTb4KVlH+SCesIMJmIvly",
      "include_colab_link": true
    },
    "kernelspec": {
      "name": "python3",
      "display_name": "Python 3"
    },
    "language_info": {
      "name": "python"
    }
  },
  "cells": [
    {
      "cell_type": "markdown",
      "metadata": {
        "id": "view-in-github",
        "colab_type": "text"
      },
      "source": [
        "<a href=\"https://colab.research.google.com/github/hjsung-brique/lecture/blob/main/lec_ch3.ipynb\" target=\"_parent\"><img src=\"https://colab.research.google.com/assets/colab-badge.svg\" alt=\"Open In Colab\"/></a>"
      ]
    },
    {
      "cell_type": "code",
      "execution_count": null,
      "metadata": {
        "id": "A0hEqfguMG5r"
      },
      "outputs": [],
      "source": [
        "import tensorflow.compat.v1 as tf\n",
        "from sklearn.preprocessing import LabelBinarizer\n",
        "import matplotlib.pyplot as plt\n",
        "%matplotlib inline\n",
        "tf.disable_v2_behavior()"
      ]
    },
    {
      "cell_type": "code",
      "source": [
        "def load_dataset(flatten=False):\n",
        "    (X_train, y_train), (X_test, y_test) = tf.keras.datasets.mnist.load_data()\n",
        "    # normalize x\n",
        "    X_train = X_train.astype(float) / 255.\n",
        "    X_test = X_test.astype(float) / 255.\n",
        "    # we reserve the last 10000 training examples for validation\n",
        "    X_train, X_val = X_train[:-10000], X_train[-10000:]\n",
        "    y_train, y_val = y_train[:-10000], y_train[-10000:]\n",
        "    if flatten:\n",
        "        X_train = X_train.reshape([X_train.shape[0], -1])\n",
        "        X_val = X_val.reshape([X_val.shape[0], -1])\n",
        "        X_test = X_test.reshape([X_test.shape[0], -1])\n",
        "    return X_train, y_train, X_val, y_val, X_test, y_test\n",
        "X_train, y_train, X_val, y_val, X_test, y_test = load_dataset()\n",
        "## Printing dimensions\n",
        "print(X_train.shape, y_train.shape)\n",
        "## Visualizing the first digit\n",
        "plt.imshow(X_train[0], cmap=\"Greys\");"
      ],
      "metadata": {
        "id": "WxiyPlT1M8Ls"
      },
      "execution_count": null,
      "outputs": []
    },
    {
      "cell_type": "markdown",
      "source": [
        "\n",
        "\n",
        "*   Prepare data\n",
        "\n"
      ],
      "metadata": {
        "id": "ImuziRc-Ngs0"
      }
    },
    {
      "cell_type": "code",
      "source": [
        "## Changing dimension of input images from N*28*28 to  N*784\n",
        "X_train = X_train.reshape((X_train.shape[0],X_train.shape[1]*X_train.shape[2]))\n",
        "X_test = X_test.reshape((X_test.shape[0],X_test.shape[1]*X_test.shape[2]))\n",
        "print('Train dimension:');print(X_train.shape)\n",
        "print('Test dimension:');print(X_test.shape)\n",
        "## Changing labels to one-hot encoded vector\n",
        "lb = LabelBinarizer()\n",
        "y_train = lb.fit_transform(y_train)\n",
        "y_test = lb.transform(y_test)\n",
        "print('Train labels dimension:');print(y_train.shape)\n",
        "print('Test labels dimension:');print(y_test.shape)"
      ],
      "metadata": {
        "id": "nErsNzZ0NfVu"
      },
      "execution_count": null,
      "outputs": []
    },
    {
      "cell_type": "code",
      "source": [
        "## Importing required libraries\n",
        "import numpy as np\n",
        "from sklearn.metrics import roc_auc_score, accuracy_score\n",
        "s = tf.InteractiveSession()"
      ],
      "metadata": {
        "id": "PTG7OnKOOHRv"
      },
      "execution_count": null,
      "outputs": []
    },
    {
      "cell_type": "markdown",
      "source": [
        "building 784(Input)-512(Hidden layer 1)-256(Hidden layer 2)-10(Output) neural net model\n"
      ],
      "metadata": {
        "id": "EsHa5QGUOWkr"
      }
    },
    {
      "cell_type": "code",
      "source": [
        "## Defining various initialization parameters for 784-512-256-10 MLP model\n",
        "num_classes = y_train.shape[1]\n",
        "num_features = X_train.shape[1]\n",
        "num_output = y_train.shape[1]\n",
        "num_layers_0 = 512\n",
        "num_layers_1 = 256\n",
        "starter_learning_rate = 0.001\n",
        "regularizer_rate = 0.1"
      ],
      "metadata": {
        "id": "AbvXu1MDOSR5"
      },
      "execution_count": null,
      "outputs": []
    },
    {
      "cell_type": "code",
      "source": [
        "# Placeholders for the input data\n",
        "input_X = tf.placeholder('float32',shape =(None,num_features),name=\"input_X\")\n",
        "input_y = tf.placeholder('float32',shape = (None,num_classes),name='input_Y')\n",
        "## for dropout layer\n",
        "keep_prob = tf.placeholder(tf.float32)"
      ],
      "metadata": {
        "id": "eF9hqAeQZX79"
      },
      "execution_count": null,
      "outputs": []
    },
    {
      "cell_type": "code",
      "source": [
        "## Weights initialized by random normal function with std_dev = 1/sqrt(number of input features)\n",
        "weights_0 = tf.Variable(tf.random_normal([num_features,num_layers_0], stddev=(1/tf.sqrt(float(num_features)))))\n",
        "bias_0 = tf.Variable(tf.random_normal([num_layers_0]))\n",
        "weights_1 = tf.Variable(tf.random_normal([num_layers_0,num_layers_1], stddev=(1/tf.sqrt(float(num_layers_0)))))\n",
        "bias_1 = tf.Variable(tf.random_normal([num_layers_1]))\n",
        "weights_2 = tf.Variable(tf.random_normal([num_layers_1,num_output], stddev=(1/tf.sqrt(float(num_layers_1)))))\n",
        "bias_2 = tf.Variable(tf.random_normal([num_output]))"
      ],
      "metadata": {
        "id": "h_RBypITZaji"
      },
      "execution_count": null,
      "outputs": []
    },
    {
      "cell_type": "code",
      "source": [
        "## Initializing weigths and biases\n",
        "hidden_output_0 = tf.nn.relu(tf.matmul(input_X,weights_0)+bias_0)\n",
        "hidden_output_0_0 = tf.nn.dropout(hidden_output_0, keep_prob)\n",
        "hidden_output_1 = tf.nn.relu(tf.matmul(hidden_output_0_0,weights_1)+bias_1)\n",
        "hidden_output_1_1 = tf.nn.dropout(hidden_output_1, keep_prob)\n",
        "predicted_y = tf.sigmoid(tf.matmul(hidden_output_1_1,weights_2) + bias_2)"
      ],
      "metadata": {
        "id": "R262efZ3ZcPB"
      },
      "execution_count": null,
      "outputs": []
    },
    {
      "cell_type": "code",
      "source": [
        "## Defining the loss function\n",
        "loss = tf.reduce_mean(tf.nn.softmax_cross_entropy_with_logits_v2(logits=predicted_y,labels=input_y)) \\\n",
        "        + regularizer_rate*(tf.reduce_sum(tf.square(bias_0)) + tf.reduce_sum(tf.square(bias_1)))\n",
        "\n",
        "\n",
        "## Variable learning rate\n",
        "learning_rate = tf.train.exponential_decay(starter_learning_rate, 0, 5, 0.85, staircase=True)\n",
        "## Adam optimzer for finding the right weight\n",
        "optimizer = tf.train.AdamOptimizer(learning_rate).minimize(loss,var_list=[weights_0,weights_1,weights_2,\n",
        "                                                                         bias_0,bias_1,bias_2])\n",
        "\n",
        "## Metrics definition\n",
        "correct_prediction = tf.equal(tf.argmax(y_train,1), tf.argmax(predicted_y,1))\n",
        "accuracy = tf.reduce_mean(tf.cast(correct_prediction, tf.float32))\n"
      ],
      "metadata": {
        "id": "TEVFqea_Zrh0"
      },
      "execution_count": null,
      "outputs": []
    },
    {
      "cell_type": "code",
      "source": [
        "## Training parameters\n",
        "batch_size = 128\n",
        "epochs=14\n",
        "dropout_prob = 0.6\n",
        "training_accuracy = []\n",
        "training_loss = []\n",
        "testing_accuracy = []\n",
        "s.run(tf.global_variables_initializer())\n",
        "for epoch in range(epochs):    \n",
        "    arr = np.arange(X_train.shape[0])\n",
        "    np.random.shuffle(arr)\n",
        "    for index in range(0,X_train.shape[0],batch_size):\n",
        "        s.run(optimizer, {input_X: X_train[arr[index:index+batch_size]],\n",
        "                          input_y: y_train[arr[index:index+batch_size]],\n",
        "                        keep_prob:dropout_prob})\n",
        "    training_accuracy.append(s.run(accuracy, feed_dict= {input_X:X_train, \n",
        "                                                         input_y: y_train,keep_prob:1}))\n",
        "    training_loss.append(s.run(loss, {input_X: X_train, \n",
        "                                      input_y: y_train,keep_prob:1}))\n",
        "    \n",
        "    ## Evaluation of model\n",
        "    testing_accuracy.append(accuracy_score(y_test.argmax(1), \n",
        "                            s.run(predicted_y, {input_X: X_test,keep_prob:1}).argmax(1)))\n",
        "    print(\"Epoch:{0}, Train loss: {1:.2f} Train acc: {2:.3f}, Test acc:{3:.3f}\".format(epoch,\n",
        "                                                                    training_loss[epoch],\n",
        "                                                                    training_accuracy[epoch],\n",
        "                                                                   testing_accuracy[epoch]))\n",
        "\n",
        "\n"
      ],
      "metadata": {
        "id": "N4-rO34vOnOW"
      },
      "execution_count": null,
      "outputs": []
    },
    {
      "cell_type": "code",
      "source": [
        "## Plotting chart of training and testing accuracy as a function of iterations\n",
        "iterations = list(range(epochs))\n",
        "plt.plot(iterations, training_accuracy, label='Train')\n",
        "plt.plot(iterations, testing_accuracy, label='Test')\n",
        "plt.ylabel('Accuracy')\n",
        "plt.xlabel('iterations')\n",
        "plt.show()\n",
        "print(\"Train Accuracy: {0:.2f}\".format(training_accuracy[-1]))\n",
        "print(\"Test Accuracy:{0:.2f}\".format(testing_accuracy[-1]))"
      ],
      "metadata": {
        "id": "RsNwWkjUQCwZ"
      },
      "execution_count": null,
      "outputs": []
    }
  ]
}